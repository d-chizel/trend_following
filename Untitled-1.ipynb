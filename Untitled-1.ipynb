{
 "cells": [
  {
   "cell_type": "markdown",
   "metadata": {},
   "source": [
    "# Import Required Libraries\n",
    "Import the necessary libraries, including pandas."
   ]
  },
  {
   "cell_type": "code",
   "execution_count": null,
   "metadata": {},
   "outputs": [],
   "source": [
    "# Import Required Libraries\n",
    "import pandas as pd  # Importing pandas library for data manipulation"
   ]
  },
  {
   "cell_type": "markdown",
   "metadata": {},
   "source": [
    "# Load CSV Data\n",
    "Use pandas to load data from a CSV file into a DataFrame."
   ]
  },
  {
   "cell_type": "code",
   "execution_count": null,
   "metadata": {},
   "outputs": [],
   "source": [
    "# Load CSV Data\n",
    "data = pd.read_csv('path_to_your_csv_file.csv')  # Replace 'path_to_your_csv_file.csv' with the actual path to your CSV file\n",
    "data.head()  # Display the first few rows of the DataFrame to ensure data is loaded correctly"
   ]
  },
  {
   "cell_type": "markdown",
   "metadata": {},
   "source": [
    "# Display Data Summary\n",
    "Display the first few rows and summary statistics of the DataFrame."
   ]
  },
  {
   "cell_type": "code",
   "execution_count": null,
   "metadata": {},
   "outputs": [],
   "source": [
    "# Display Data Summary\n",
    "data.head()  # Display the first few rows of the DataFrame\n",
    "\n",
    "data.describe()  # Display summary statistics of the DataFrame"
   ]
  },
  {
   "cell_type": "markdown",
   "metadata": {},
   "source": [
    "# Handle Missing Values\n",
    "Identify and handle any missing values in the DataFrame."
   ]
  },
  {
   "cell_type": "code",
   "execution_count": null,
   "metadata": {},
   "outputs": [],
   "source": [
    "# Handle Missing Values\n",
    "missing_values = data.isnull().sum()  # Identify missing values in the DataFrame\n",
    "print(\"Missing values in each column:\\n\", missing_values)  # Print the number of missing values in each column\n",
    "\n",
    "# Option 1: Drop rows with missing values\n",
    "data_dropped = data.dropna()  # Drop rows with any missing values\n",
    "print(\"Data after dropping rows with missing values:\\n\", data_dropped.head())  # Display the first few rows of the DataFrame after dropping missing values\n",
    "\n",
    "# Option 2: Fill missing values with a specific value (e.g., 0)\n",
    "data_filled = data.fillna(0)  # Fill missing values with 0\n",
    "print(\"Data after filling missing values with 0:\\n\", data_filled.head())  # Display the first few rows of the DataFrame after filling missing values"
   ]
  }
 ],
 "metadata": {
  "kernelspec": {
   "display_name": "Python 3",
   "language": "python",
   "name": "python3"
  },
  "language_info": {
   "name": "python",
   "version": "3.11.9"
  }
 },
 "nbformat": 4,
 "nbformat_minor": 2
}
